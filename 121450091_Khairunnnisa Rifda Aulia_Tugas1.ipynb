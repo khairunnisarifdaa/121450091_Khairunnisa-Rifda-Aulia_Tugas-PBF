{
 "cells": [
  {
   "cell_type": "code",
   "execution_count": 12,
   "id": "aa08ec52",
   "metadata": {},
   "outputs": [],
   "source": [
    "def password(pas):\n",
    "    if len(pas) > 100:\n",
    "        return \"kata terlalu panjang\"\n",
    "    \n",
    "    password = \"\"\n",
    "    for char in pas:\n",
    "        ascii_value = ord(char)\n",
    "        value1 =  round((ascii_value / 26)) + 80\n",
    "        value2 = (ascii_value % 26) + 80\n",
    "        value3 = '+' if value1 > value2 else '_'\n",
    "        password += chr(value1) + chr(value2) + value3\n",
    "        \n",
    "    return password"
   ]
  },
  {
   "cell_type": "code",
   "execution_count": 13,
   "id": "dc926c2b",
   "metadata": {},
   "outputs": [
    {
     "name": "stdout",
     "output_type": "stream",
     "text": [
      "TX_TZ_TW_Ti_TZ_Tc_TU_Td_Tg_TZ_Td_Tc_T[_TQ+T[_Th_T]_TV_Ti_T[_TQ+\n"
     ]
    }
   ],
   "source": [
    "print(password (\"programberbasisfungsi\"))"
   ]
  }
 ],
 "metadata": {
  "kernelspec": {
   "display_name": "Python 3 (ipykernel)",
   "language": "python",
   "name": "python3"
  },
  "language_info": {
   "codemirror_mode": {
    "name": "ipython",
    "version": 3
   },
   "file_extension": ".py",
   "mimetype": "text/x-python",
   "name": "python",
   "nbconvert_exporter": "python",
   "pygments_lexer": "ipython3",
   "version": "3.9.13"
  }
 },
 "nbformat": 4,
 "nbformat_minor": 5
}
